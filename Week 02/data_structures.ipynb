{
 "cells": [
  {
   "cell_type": "markdown",
   "id": "68ad2893",
   "metadata": {},
   "source": [
    "### 1. Lists"
   ]
  },
  {
   "cell_type": "code",
   "execution_count": 1,
   "id": "127895c0",
   "metadata": {},
   "outputs": [
    {
     "name": "stdout",
     "output_type": "stream",
     "text": [
      "10\n",
      "40\n",
      "[20, 30]\n"
     ]
    }
   ],
   "source": [
    "# Create a list\n",
    "numbers = [10, 20, 30]\n",
    "\n",
    "# Add an item\n",
    "numbers.append(40)\n",
    "\n",
    "# Access items\n",
    "print(numbers[0])      # 10\n",
    "print(numbers[-1])     # 40\n",
    "\n",
    "# Slice\n",
    "print(numbers[1:3])    # [20, 30]\n"
   ]
  },
  {
   "cell_type": "code",
   "execution_count": 6,
   "id": "c29ce4e8",
   "metadata": {},
   "outputs": [
    {
     "name": "stdout",
     "output_type": "stream",
     "text": [
      "<class 'str'>\n",
      "<class 'int'>\n",
      "<class 'str'>\n",
      "<class 'int'>\n"
     ]
    }
   ],
   "source": [
    "mixed_list = [\"A\",1,\"B\",2]\n",
    "mixed_list\n",
    "\n",
    "for i in mixed_list:\n",
    "    print(type(i))"
   ]
  },
  {
   "cell_type": "code",
   "execution_count": 33,
   "id": "2cd97e8f",
   "metadata": {},
   "outputs": [
    {
     "name": "stdout",
     "output_type": "stream",
     "text": [
      "Bob\n",
      "John\n",
      "Jim\n"
     ]
    }
   ],
   "source": [
    "# Iterating a list\n",
    "names = [\"Bob\", \"John\", \"Jim\"]\n",
    "\n",
    "for name in names:\n",
    "    print(name)"
   ]
  },
  {
   "cell_type": "code",
   "execution_count": 35,
   "id": "9fa05904",
   "metadata": {},
   "outputs": [
    {
     "data": {
      "text/plain": [
       "['Dragonfruit', 'Banana', 'Lemon', 'Apple', 'Orange', 'Grapes']"
      ]
     },
     "execution_count": 35,
     "metadata": {},
     "output_type": "execute_result"
    }
   ],
   "source": [
    "fruits = [\"Banana\", \"Apple\", \"Orange\"]\n",
    "fruits.append(\"Grapes\")\n",
    "fruits.insert(1, \"Lemon\")\n",
    "fruits.insert(0, \"Dragonfruit\")\n",
    "fruits"
   ]
  },
  {
   "cell_type": "code",
   "execution_count": 36,
   "id": "7032efcc",
   "metadata": {},
   "outputs": [
    {
     "data": {
      "text/plain": [
       "['Dragonfruit', 'Lemon', 'Apple', 'Orange', 'Grapes']"
      ]
     },
     "execution_count": 36,
     "metadata": {},
     "output_type": "execute_result"
    }
   ],
   "source": [
    "fruits.remove(\"Banana\")\n",
    "fruits"
   ]
  },
  {
   "cell_type": "code",
   "execution_count": 37,
   "id": "2f10c752",
   "metadata": {},
   "outputs": [
    {
     "data": {
      "text/plain": [
       "'Dragonfruit'"
      ]
     },
     "execution_count": 37,
     "metadata": {},
     "output_type": "execute_result"
    }
   ],
   "source": [
    "fruits.pop(0)"
   ]
  },
  {
   "cell_type": "code",
   "execution_count": 38,
   "id": "cce07cc0",
   "metadata": {},
   "outputs": [],
   "source": [
    "fruits.insert(0, \"Dragonfruit\")"
   ]
  },
  {
   "cell_type": "markdown",
   "id": "31bef6e3",
   "metadata": {},
   "source": [
    "List comprehension"
   ]
  },
  {
   "cell_type": "code",
   "execution_count": 39,
   "id": "7a91b802",
   "metadata": {},
   "outputs": [
    {
     "data": {
      "text/plain": [
       "['Dragonfruit', 'Lemon', 'Apple', 'Orange', 'Grapes']"
      ]
     },
     "execution_count": 39,
     "metadata": {},
     "output_type": "execute_result"
    }
   ],
   "source": [
    "fruits"
   ]
  },
  {
   "cell_type": "code",
   "execution_count": 50,
   "id": "880df19d",
   "metadata": {},
   "outputs": [
    {
     "data": {
      "text/plain": [
       "'DRAGONFRUIT'"
      ]
     },
     "execution_count": 50,
     "metadata": {},
     "output_type": "execute_result"
    }
   ],
   "source": [
    "fruits[0].upper()"
   ]
  },
  {
   "cell_type": "code",
   "execution_count": 51,
   "id": "33c9706a",
   "metadata": {},
   "outputs": [
    {
     "name": "stdout",
     "output_type": "stream",
     "text": [
      "DRAGONFRUIT\n",
      "LEMON\n",
      "APPLE\n",
      "ORANGE\n",
      "GRAPES\n"
     ]
    },
    {
     "data": {
      "text/plain": [
       "['Dragonfruit', 'Lemon', 'Apple', 'Orange', 'Grapes']"
      ]
     },
     "execution_count": 51,
     "metadata": {},
     "output_type": "execute_result"
    }
   ],
   "source": [
    "for fruit in fruits:\n",
    "    print(fruit.upper())\n",
    "\n",
    "fruits"
   ]
  },
  {
   "cell_type": "code",
   "execution_count": 54,
   "id": "95f9ee81",
   "metadata": {},
   "outputs": [
    {
     "data": {
      "text/plain": [
       "['DRAGONFRUIT', 'LEMON', 'APPLE', 'ORANGE', 'GRAPES']"
      ]
     },
     "execution_count": 54,
     "metadata": {},
     "output_type": "execute_result"
    }
   ],
   "source": [
    "fruits_upper = [fruit.upper() for fruit in fruits]\n",
    "fruits_upper"
   ]
  },
  {
   "cell_type": "markdown",
   "id": "c79a289e",
   "metadata": {},
   "source": [
    "### 2. Dictionary (Hash table)"
   ]
  },
  {
   "cell_type": "code",
   "execution_count": 61,
   "id": "b6149044",
   "metadata": {},
   "outputs": [
    {
     "name": "stdout",
     "output_type": "stream",
     "text": [
      "Asha\n"
     ]
    }
   ],
   "source": [
    "# Create a dictionary (record-like)\n",
    "employee = {\n",
    "    \"name\": \"Asha\",\n",
    "    \"age\": 29,\n",
    "    \"department\": \"Finance\"\n",
    "}\n",
    "\n",
    "print(employee[\"name\"])  \n"
   ]
  },
  {
   "cell_type": "code",
   "execution_count": 62,
   "id": "a2448c40",
   "metadata": {},
   "outputs": [
    {
     "name": "stdout",
     "output_type": "stream",
     "text": [
      "{'name': 'Asha', 'age': 29, 'department': 'Finance', 'salary': 45000}\n"
     ]
    }
   ],
   "source": [
    "# Add a new field\n",
    "employee[\"salary\"] = 45000\n",
    "print(employee)"
   ]
  },
  {
   "cell_type": "markdown",
   "id": "5cc6c755",
   "metadata": {},
   "source": [
    "Removing"
   ]
  },
  {
   "cell_type": "code",
   "execution_count": 63,
   "id": "32f3b8ff",
   "metadata": {},
   "outputs": [
    {
     "data": {
      "text/plain": [
       "{'name': 'Asha', 'age': 29, 'salary': 45000}"
      ]
     },
     "execution_count": 63,
     "metadata": {},
     "output_type": "execute_result"
    }
   ],
   "source": [
    "employee.pop(\"department\")\n",
    "employee"
   ]
  },
  {
   "cell_type": "code",
   "execution_count": 65,
   "id": "e11e96c0",
   "metadata": {},
   "outputs": [
    {
     "data": {
      "text/plain": [
       "dict_values(['Asha', 29, 45000])"
      ]
     },
     "execution_count": 65,
     "metadata": {},
     "output_type": "execute_result"
    }
   ],
   "source": [
    "employee.values()"
   ]
  },
  {
   "cell_type": "markdown",
   "id": "195f7d9c",
   "metadata": {},
   "source": [
    "### 3. Tuples"
   ]
  },
  {
   "cell_type": "code",
   "execution_count": 66,
   "id": "7d2333ad",
   "metadata": {},
   "outputs": [
    {
     "name": "stdout",
     "output_type": "stream",
     "text": [
      "101\n"
     ]
    }
   ],
   "source": [
    "# A fixed record: (ID, Name)\n",
    "record = (101, 'Ana')\n",
    "\n",
    "# Accessing values\n",
    "print(record[0])  # 101"
   ]
  },
  {
   "cell_type": "code",
   "execution_count": 76,
   "id": "7b897576",
   "metadata": {},
   "outputs": [
    {
     "name": "stdout",
     "output_type": "stream",
     "text": [
      "Alice is 25 years old. He / She is an Engineer\n"
     ]
    }
   ],
   "source": [
    "tuple1 = (\"Alice\", 25, \"Engineer\")\n",
    "name, age, job = tuple1\n",
    "\n",
    "print(f\"{name} is {age} years old. He / She is an {job}\")"
   ]
  },
  {
   "cell_type": "markdown",
   "id": "a8983028",
   "metadata": {},
   "source": [
    "### 4. Sets"
   ]
  },
  {
   "cell_type": "code",
   "execution_count": 80,
   "id": "ddd4df0a",
   "metadata": {},
   "outputs": [
    {
     "data": {
      "text/plain": [
       "{'Finance', 'HR', 'IT', 'Marketing'}"
      ]
     },
     "execution_count": 80,
     "metadata": {},
     "output_type": "execute_result"
    }
   ],
   "source": [
    "# Create a set\n",
    "unique_departments = {\"Finance\", \"HR\", \"IT\"}\n",
    "\n",
    "# Add new item\n",
    "unique_departments.add(\"Marketing\")\n",
    "unique_departments"
   ]
  },
  {
   "cell_type": "code",
   "execution_count": 81,
   "id": "4550e0c4",
   "metadata": {},
   "outputs": [
    {
     "name": "stdout",
     "output_type": "stream",
     "text": [
      "{'HR', 'Finance'}\n"
     ]
    }
   ],
   "source": [
    "# Remove duplicates from a list\n",
    "departments = [\"Finance\", \"Finance\", \"HR\"]\n",
    "unique_departments = set(departments)\n",
    "print(unique_departments) "
   ]
  },
  {
   "cell_type": "markdown",
   "id": "463bb455",
   "metadata": {},
   "source": [
    "### 5. Stacks"
   ]
  },
  {
   "cell_type": "code",
   "execution_count": 85,
   "id": "c6635bca",
   "metadata": {},
   "outputs": [
    {
     "name": "stdout",
     "output_type": "stream",
     "text": [
      "Stack:  ['A', 'B', 'C']\n"
     ]
    }
   ],
   "source": [
    "stack = []\n",
    "\n",
    "# Push\n",
    "stack.append('A')\n",
    "stack.append('B')\n",
    "stack.append('C')\n",
    "print(\"Stack: \", stack)"
   ]
  },
  {
   "cell_type": "code",
   "execution_count": 86,
   "id": "91d725e4",
   "metadata": {},
   "outputs": [
    {
     "name": "stdout",
     "output_type": "stream",
     "text": [
      "Pop:  C\n"
     ]
    },
    {
     "data": {
      "text/plain": [
       "['A', 'B']"
      ]
     },
     "execution_count": 86,
     "metadata": {},
     "output_type": "execute_result"
    }
   ],
   "source": [
    "# Pop\n",
    "element = stack.pop()\n",
    "print(\"Pop: \", element)\n",
    "stack"
   ]
  },
  {
   "cell_type": "code",
   "execution_count": 90,
   "id": "8331e9ae",
   "metadata": {},
   "outputs": [
    {
     "name": "stdout",
     "output_type": "stream",
     "text": [
      "Peek:  B\n"
     ]
    }
   ],
   "source": [
    "# Peek\n",
    "topElement = stack[-1]\n",
    "print(\"Peek: \", topElement)"
   ]
  },
  {
   "cell_type": "code",
   "execution_count": 92,
   "id": "105926a9",
   "metadata": {},
   "outputs": [
    {
     "data": {
      "text/plain": [
       "False"
      ]
     },
     "execution_count": 92,
     "metadata": {},
     "output_type": "execute_result"
    }
   ],
   "source": [
    "stack =[]\n",
    "bool(stack)"
   ]
  },
  {
   "cell_type": "code",
   "execution_count": 94,
   "id": "f1d02655",
   "metadata": {},
   "outputs": [
    {
     "name": "stdout",
     "output_type": "stream",
     "text": [
      "isEmpty:  True\n"
     ]
    }
   ],
   "source": [
    "# isEmpty\n",
    "isEmpty = not bool(stack)\n",
    "print(\"isEmpty: \", isEmpty)"
   ]
  },
  {
   "cell_type": "code",
   "execution_count": 96,
   "id": "d6578b03",
   "metadata": {},
   "outputs": [
    {
     "name": "stdout",
     "output_type": "stream",
     "text": [
      "isEmpty:  False\n"
     ]
    }
   ],
   "source": [
    "stack =[1,2,3]\n",
    "\n",
    "# isEmpty\n",
    "isEmpty = not bool(stack)\n",
    "print(\"isEmpty: \", isEmpty)"
   ]
  },
  {
   "cell_type": "code",
   "execution_count": 97,
   "id": "f73ac993",
   "metadata": {},
   "outputs": [
    {
     "name": "stdout",
     "output_type": "stream",
     "text": [
      "Size:  3\n"
     ]
    }
   ],
   "source": [
    "# Size\n",
    "print(\"Size: \",len(stack))"
   ]
  },
  {
   "cell_type": "markdown",
   "id": "1ff9358e",
   "metadata": {},
   "source": [
    "### 6. Queue (FIFO)"
   ]
  },
  {
   "cell_type": "code",
   "execution_count": 98,
   "id": "49d574c1",
   "metadata": {},
   "outputs": [
    {
     "name": "stdout",
     "output_type": "stream",
     "text": [
      "Queue:  ['A', 'B', 'C']\n"
     ]
    }
   ],
   "source": [
    "queue = []\n",
    "\n",
    "# Enqueue\n",
    "queue.append('A')\n",
    "queue.append('B')\n",
    "queue.append('C')\n",
    "print(\"Queue: \", queue)"
   ]
  },
  {
   "cell_type": "code",
   "execution_count": 100,
   "id": "df7130fb",
   "metadata": {},
   "outputs": [
    {
     "name": "stdout",
     "output_type": "stream",
     "text": [
      "Dequeue:  B\n"
     ]
    }
   ],
   "source": [
    "# Dequeue\n",
    "element = queue.pop(0)\n",
    "print(\"Dequeue: \", element)"
   ]
  },
  {
   "cell_type": "code",
   "execution_count": 101,
   "id": "6704ced1",
   "metadata": {},
   "outputs": [
    {
     "name": "stdout",
     "output_type": "stream",
     "text": [
      "Peek:  C\n"
     ]
    }
   ],
   "source": [
    "# Peek\n",
    "frontElement = queue[0]\n",
    "print(\"Peek: \", frontElement)"
   ]
  },
  {
   "cell_type": "code",
   "execution_count": 102,
   "id": "009efde1",
   "metadata": {},
   "outputs": [
    {
     "name": "stdout",
     "output_type": "stream",
     "text": [
      "isEmpty:  False\n"
     ]
    }
   ],
   "source": [
    "# isEmpty\n",
    "isEmpty = not bool(queue)\n",
    "print(\"isEmpty: \", isEmpty)"
   ]
  },
  {
   "cell_type": "code",
   "execution_count": 103,
   "id": "3b8a85bb",
   "metadata": {},
   "outputs": [
    {
     "name": "stdout",
     "output_type": "stream",
     "text": [
      "Size:  1\n"
     ]
    }
   ],
   "source": [
    "# Size\n",
    "print(\"Size: \", len(queue))"
   ]
  },
  {
   "cell_type": "code",
   "execution_count": 104,
   "id": "d322524b",
   "metadata": {},
   "outputs": [
    {
     "data": {
      "text/plain": [
       "deque(['Order1', 'Order2'])"
      ]
     },
     "execution_count": 104,
     "metadata": {},
     "output_type": "execute_result"
    }
   ],
   "source": [
    "from collections import deque\n",
    "\n",
    "queue = deque()\n",
    "queue.append(\"Order1\")\n",
    "queue.append(\"Order2\")\n",
    "\n",
    "queue"
   ]
  },
  {
   "cell_type": "code",
   "execution_count": 105,
   "id": "018b9b5e",
   "metadata": {},
   "outputs": [
    {
     "name": "stdout",
     "output_type": "stream",
     "text": [
      "Order1\n",
      "Order2\n"
     ]
    }
   ],
   "source": [
    "print(queue.popleft())  # Order1\n",
    "print(queue.popleft())  # Order2"
   ]
  },
  {
   "cell_type": "markdown",
   "id": "b1e1f751",
   "metadata": {},
   "source": [
    "### 7. DataFrames"
   ]
  },
  {
   "cell_type": "code",
   "execution_count": null,
   "id": "711ac217",
   "metadata": {},
   "outputs": [
    {
     "data": {
      "text/html": [
       "<div>\n",
       "<style scoped>\n",
       "    .dataframe tbody tr th:only-of-type {\n",
       "        vertical-align: middle;\n",
       "    }\n",
       "\n",
       "    .dataframe tbody tr th {\n",
       "        vertical-align: top;\n",
       "    }\n",
       "\n",
       "    .dataframe thead th {\n",
       "        text-align: right;\n",
       "    }\n",
       "</style>\n",
       "<table border=\"1\" class=\"dataframe\">\n",
       "  <thead>\n",
       "    <tr style=\"text-align: right;\">\n",
       "      <th></th>\n",
       "      <th>Name</th>\n",
       "      <th>Age</th>\n",
       "      <th>Department</th>\n",
       "    </tr>\n",
       "  </thead>\n",
       "  <tbody>\n",
       "    <tr>\n",
       "      <th>0</th>\n",
       "      <td>Asha</td>\n",
       "      <td>29.0</td>\n",
       "      <td>Finance</td>\n",
       "    </tr>\n",
       "    <tr>\n",
       "      <th>1</th>\n",
       "      <td>Ravi</td>\n",
       "      <td>35.0</td>\n",
       "      <td>IT</td>\n",
       "    </tr>\n",
       "    <tr>\n",
       "      <th>2</th>\n",
       "      <td>Meena</td>\n",
       "      <td>NaN</td>\n",
       "      <td>Finance</td>\n",
       "    </tr>\n",
       "  </tbody>\n",
       "</table>\n",
       "</div>"
      ],
      "text/plain": [
       "    Name   Age Department\n",
       "0   Asha  29.0    Finance\n",
       "1   Ravi  35.0         IT\n",
       "2  Meena   NaN    Finance"
      ]
     },
     "execution_count": 111,
     "metadata": {},
     "output_type": "execute_result"
    }
   ],
   "source": [
    "import pandas as pd\n",
    "\n",
    "# Create a DataFrame\n",
    "data = {\n",
    "    \"Name\": [\"Asha\", \"Ravi\", \"Meena\"],\n",
    "    \"Age\": [29, 35, None],\n",
    "    \"Department\": [\"Finance\", \"IT\", \"Finance\"]\n",
    "}\n",
    "df = pd.DataFrame(data)\n",
    "df"
   ]
  },
  {
   "cell_type": "code",
   "execution_count": 114,
   "id": "0c2c82cb",
   "metadata": {},
   "outputs": [],
   "source": [
    "df.to_csv(\"File1.csv\", index=False)"
   ]
  },
  {
   "cell_type": "code",
   "execution_count": 115,
   "id": "18ea3061",
   "metadata": {},
   "outputs": [],
   "source": [
    "# Remove duplicates\n",
    "df.drop_duplicates(inplace=True)"
   ]
  },
  {
   "cell_type": "code",
   "execution_count": 117,
   "id": "951ece14",
   "metadata": {},
   "outputs": [
    {
     "name": "stdout",
     "output_type": "stream",
     "text": [
      "    Name   Age Department\n",
      "0   Asha  29.0    Finance\n",
      "1   Ravi  35.0         IT\n",
      "2  Meena  32.0    Finance\n"
     ]
    }
   ],
   "source": [
    "# Fill missing values\n",
    "df.fillna({'Age': df['Age'].mean()}, inplace=True)\n",
    "print(df)"
   ]
  },
  {
   "cell_type": "markdown",
   "id": "6194cf38",
   "metadata": {},
   "source": [
    "### 8. JSON"
   ]
  },
  {
   "cell_type": "code",
   "execution_count": 119,
   "id": "0bbce15b",
   "metadata": {},
   "outputs": [
    {
     "name": "stdout",
     "output_type": "stream",
     "text": [
      "Ana\n"
     ]
    }
   ],
   "source": [
    "import json\n",
    "\n",
    "# JSON string from an API\n",
    "json_string = '{\"id\": 1, \"name\": \"Ana\"}'\n",
    "\n",
    "# Convert JSON to Python dict\n",
    "data = json.loads(json_string)\n",
    "data\n",
    "\n",
    "print(data['name'])  # Ana"
   ]
  },
  {
   "cell_type": "markdown",
   "id": "ee1adb2b",
   "metadata": {},
   "source": [
    "### 9. Databases (SQLITE)"
   ]
  },
  {
   "cell_type": "code",
   "execution_count": null,
   "id": "a6c92e07",
   "metadata": {},
   "outputs": [
    {
     "name": "stdout",
     "output_type": "stream",
     "text": [
      "(1, 'John')\n"
     ]
    }
   ],
   "source": [
    "import sqlite3\n",
    "\n",
    "# Set up a connection\n",
    "conn = sqlite3.connect('example1.db')\n",
    "conn\n",
    "\n",
    "cursor = conn.cursor()\n",
    "\n",
    "cursor.execute('CREATE TABLE IF NOT EXISTS customers (id INT, name TEXT)')\n",
    "\n",
    "cursor.execute('INSERT INTO customers VALUES (?, ?)', (1, 'John'))\n",
    "\n",
    "for i in cursor.execute('SELECT * FROM customers'):\n",
    "    print(i)\n",
    "\n",
    "conn.close()"
   ]
  }
 ],
 "metadata": {
  "kernelspec": {
   "display_name": "Python 3",
   "language": "python",
   "name": "python3"
  },
  "language_info": {
   "codemirror_mode": {
    "name": "ipython",
    "version": 3
   },
   "file_extension": ".py",
   "mimetype": "text/x-python",
   "name": "python",
   "nbconvert_exporter": "python",
   "pygments_lexer": "ipython3",
   "version": "3.12.4"
  }
 },
 "nbformat": 4,
 "nbformat_minor": 5
}
