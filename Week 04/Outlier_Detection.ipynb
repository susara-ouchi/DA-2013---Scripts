{
 "cells": [
  {
   "cell_type": "markdown",
   "id": "754345a7",
   "metadata": {},
   "source": [
    "### Importing libraries"
   ]
  },
  {
   "cell_type": "code",
   "execution_count": 522,
   "id": "61ae3bfb",
   "metadata": {},
   "outputs": [],
   "source": [
    "import pandas as pd\n",
    "import numpy as np\n",
    "import matplotlib.pyplot as plt\n",
    "import seaborn as sns\n",
    "from sklearn.ensemble import IsolationForest\n",
    "from scipy import stats"
   ]
  },
  {
   "cell_type": "markdown",
   "id": "6da68dab",
   "metadata": {},
   "source": [
    "### 1) Continuous Data\n",
    "Detection and handling of outliers in numerical columns."
   ]
  },
  {
   "cell_type": "code",
   "execution_count": 523,
   "id": "16b7efd5",
   "metadata": {},
   "outputs": [],
   "source": [
    "# Example continuous data\n",
    "df_cont = pd.DataFrame({'Age': [23, 25, 26, 24, 120, 28, 22]})\n",
    "# df_cont_2 = pd.DataFrame({'Age': [23, 35, 46, 60, 70, 50, 35, 24, 33, 38, 43, 62, 65, 63, 70, 69, 18, 25, 33, 25, 26, 24, 120, 80,  28, 22]})"
   ]
  },
  {
   "cell_type": "code",
   "execution_count": 524,
   "id": "264a3eaf",
   "metadata": {},
   "outputs": [
    {
     "data": {
      "image/png": "[encoded data removed]",
      "text/plain": [
       "<Figure size 600x400 with 1 Axes>"
      ]
     },
     "metadata": {},
     "output_type": "display_data"
    }
   ],
   "source": [
    "plt.figure(figsize=(6,4))\n",
    "sns.boxplot(y=df_cont['Age'])\n",
    "plt.title(\"Boxplot of Age\")\n",
    "plt.show()"
   ]
  },
  {
   "cell_type": "code",
   "execution_count": 525,
   "id": "d2c59bf3",
   "metadata": {},
   "outputs": [
    {
     "name": "stdout",
     "output_type": "stream",
     "text": [
      "Lower bound:18.25\n",
      "Upper bound:32.25\n"
     ]
    }
   ],
   "source": [
    "# IQR method for detecting outliers\n",
    "Q1, Q3 = df_cont['Age'].quantile([0.25, 0.75])\n",
    "IQR = Q3 - Q1\n",
    "lower, upper = Q1 - 1.5*IQR, Q3 + 1.5*IQR\n",
    "print(f\"Lower bound:{lower}\")\n",
    "print(f\"Upper bound:{upper}\")"
   ]
  },
  {
   "cell_type": "code",
   "execution_count": 526,
   "id": "2abc13e4",
   "metadata": {},
   "outputs": [
    {
     "data": {
      "text/html": [
       "<div>\n",
       "<style scoped>\n",
       "    .dataframe tbody tr th:only-of-type {\n",
       "        vertical-align: middle;\n",
       "    }\n",
       "\n",
       "    .dataframe tbody tr th {\n",
       "        vertical-align: top;\n",
       "    }\n",
       "\n",
       "    .dataframe thead th {\n",
       "        text-align: right;\n",
       "    }\n",
       "</style>\n",
       "<table border=\"1\" class=\"dataframe\">\n",
       "  <thead>\n",
       "    <tr style=\"text-align: right;\">\n",
       "      <th></th>\n",
       "      <th>Age</th>\n",
       "      <th>is_outlier</th>\n",
       "    </tr>\n",
       "  </thead>\n",
       "  <tbody>\n",
       "    <tr>\n",
       "      <th>4</th>\n",
       "      <td>120</td>\n",
       "      <td>True</td>\n",
       "    </tr>\n",
       "  </tbody>\n",
       "</table>\n",
       "</div>"
      ],
      "text/plain": [
       "   Age  is_outlier\n",
       "4  120        True"
      ]
     },
     "execution_count": 526,
     "metadata": {},
     "output_type": "execute_result"
    }
   ],
   "source": [
    "# Flag outliers\n",
    "df_cont['is_outlier'] = (df_cont['Age'] < lower) | (df_cont['Age'] > upper)\n",
    "df_cont.query(\"is_outlier == True\")"
   ]
  },
  {
   "cell_type": "markdown",
   "id": "0d072116",
   "metadata": {},
   "source": [
    "Capping / Winsorization"
   ]
  },
  {
   "cell_type": "code",
   "execution_count": 527,
   "id": "e6395191",
   "metadata": {},
   "outputs": [],
   "source": [
    "# Replace extreme values with the nearest threshold.\n",
    "\n",
    "df = pd.DataFrame({'Age': [23, 25, 26, 24, 120, 28, 22]})"
   ]
  },
  {
   "cell_type": "code",
   "execution_count": 528,
   "id": "920d88b3",
   "metadata": {},
   "outputs": [
    {
     "data": {
      "text/html": [
       "<div>\n",
       "<style scoped>\n",
       "    .dataframe tbody tr th:only-of-type {\n",
       "        vertical-align: middle;\n",
       "    }\n",
       "\n",
       "    .dataframe tbody tr th {\n",
       "        vertical-align: top;\n",
       "    }\n",
       "\n",
       "    .dataframe thead th {\n",
       "        text-align: right;\n",
       "    }\n",
       "</style>\n",
       "<table border=\"1\" class=\"dataframe\">\n",
       "  <thead>\n",
       "    <tr style=\"text-align: right;\">\n",
       "      <th></th>\n",
       "      <th>Age</th>\n",
       "      <th>Age_capped</th>\n",
       "    </tr>\n",
       "  </thead>\n",
       "  <tbody>\n",
       "    <tr>\n",
       "      <th>0</th>\n",
       "      <td>23</td>\n",
       "      <td>23.00</td>\n",
       "    </tr>\n",
       "    <tr>\n",
       "      <th>1</th>\n",
       "      <td>25</td>\n",
       "      <td>25.00</td>\n",
       "    </tr>\n",
       "    <tr>\n",
       "      <th>2</th>\n",
       "      <td>26</td>\n",
       "      <td>26.00</td>\n",
       "    </tr>\n",
       "    <tr>\n",
       "      <th>3</th>\n",
       "      <td>24</td>\n",
       "      <td>24.00</td>\n",
       "    </tr>\n",
       "    <tr>\n",
       "      <th>4</th>\n",
       "      <td>120</td>\n",
       "      <td>32.25</td>\n",
       "    </tr>\n",
       "    <tr>\n",
       "      <th>5</th>\n",
       "      <td>28</td>\n",
       "      <td>28.00</td>\n",
       "    </tr>\n",
       "    <tr>\n",
       "      <th>6</th>\n",
       "      <td>22</td>\n",
       "      <td>22.00</td>\n",
       "    </tr>\n",
       "  </tbody>\n",
       "</table>\n",
       "</div>"
      ],
      "text/plain": [
       "   Age  Age_capped\n",
       "0   23       23.00\n",
       "1   25       25.00\n",
       "2   26       26.00\n",
       "3   24       24.00\n",
       "4  120       32.25\n",
       "5   28       28.00\n",
       "6   22       22.00"
      ]
     },
     "execution_count": 528,
     "metadata": {},
     "output_type": "execute_result"
    }
   ],
   "source": [
    "# Replace extreme values with the nearest threshold (winsorization).\n",
    "Q1, Q3 = df['Age'].quantile([0.25, 0.75])\n",
    "IQR = Q3 - Q1\n",
    "lower, upper = Q1 - 1.5*IQR, Q3 + 1.5*IQR\n",
    "\n",
    "# Cap the values\n",
    "df['Age_capped'] = df['Age'].clip(lower, upper)\n",
    "df"
   ]
  },
  {
   "cell_type": "markdown",
   "id": "57edc80e",
   "metadata": {},
   "source": [
    "z-score based outlier detection"
   ]
  },
  {
   "cell_type": "code",
   "execution_count": 529,
   "id": "282b8419",
   "metadata": {},
   "outputs": [
    {
     "data": {
      "text/html": [
       "<div>\n",
       "<style scoped>\n",
       "    .dataframe tbody tr th:only-of-type {\n",
       "        vertical-align: middle;\n",
       "    }\n",
       "\n",
       "    .dataframe tbody tr th {\n",
       "        vertical-align: top;\n",
       "    }\n",
       "\n",
       "    .dataframe thead th {\n",
       "        text-align: right;\n",
       "    }\n",
       "</style>\n",
       "<table border=\"1\" class=\"dataframe\">\n",
       "  <thead>\n",
       "    <tr style=\"text-align: right;\">\n",
       "      <th></th>\n",
       "      <th>Height</th>\n",
       "      <th>Weight</th>\n",
       "    </tr>\n",
       "  </thead>\n",
       "  <tbody>\n",
       "    <tr>\n",
       "      <th>0</th>\n",
       "      <td>160</td>\n",
       "      <td>55</td>\n",
       "    </tr>\n",
       "    <tr>\n",
       "      <th>1</th>\n",
       "      <td>165</td>\n",
       "      <td>60</td>\n",
       "    </tr>\n",
       "    <tr>\n",
       "      <th>2</th>\n",
       "      <td>170</td>\n",
       "      <td>65</td>\n",
       "    </tr>\n",
       "    <tr>\n",
       "      <th>3</th>\n",
       "      <td>162</td>\n",
       "      <td>58</td>\n",
       "    </tr>\n",
       "    <tr>\n",
       "      <th>4</th>\n",
       "      <td>158</td>\n",
       "      <td>57</td>\n",
       "    </tr>\n",
       "    <tr>\n",
       "      <th>5</th>\n",
       "      <td>280</td>\n",
       "      <td>80</td>\n",
       "    </tr>\n",
       "    <tr>\n",
       "      <th>6</th>\n",
       "      <td>168</td>\n",
       "      <td>63</td>\n",
       "    </tr>\n",
       "    <tr>\n",
       "      <th>7</th>\n",
       "      <td>172</td>\n",
       "      <td>90</td>\n",
       "    </tr>\n",
       "    <tr>\n",
       "      <th>8</th>\n",
       "      <td>159</td>\n",
       "      <td>54</td>\n",
       "    </tr>\n",
       "    <tr>\n",
       "      <th>9</th>\n",
       "      <td>161</td>\n",
       "      <td>56</td>\n",
       "    </tr>\n",
       "    <tr>\n",
       "      <th>10</th>\n",
       "      <td>145</td>\n",
       "      <td>40</td>\n",
       "    </tr>\n",
       "    <tr>\n",
       "      <th>11</th>\n",
       "      <td>300</td>\n",
       "      <td>120</td>\n",
       "    </tr>\n",
       "    <tr>\n",
       "      <th>12</th>\n",
       "      <td>155</td>\n",
       "      <td>42</td>\n",
       "    </tr>\n",
       "    <tr>\n",
       "      <th>13</th>\n",
       "      <td>175</td>\n",
       "      <td>110</td>\n",
       "    </tr>\n",
       "    <tr>\n",
       "      <th>14</th>\n",
       "      <td>167</td>\n",
       "      <td>72</td>\n",
       "    </tr>\n",
       "    <tr>\n",
       "      <th>15</th>\n",
       "      <td>169</td>\n",
       "      <td>75</td>\n",
       "    </tr>\n",
       "    <tr>\n",
       "      <th>16</th>\n",
       "      <td>171</td>\n",
       "      <td>78</td>\n",
       "    </tr>\n",
       "    <tr>\n",
       "      <th>17</th>\n",
       "      <td>166</td>\n",
       "      <td>80</td>\n",
       "    </tr>\n",
       "    <tr>\n",
       "      <th>18</th>\n",
       "      <td>164</td>\n",
       "      <td>85</td>\n",
       "    </tr>\n",
       "    <tr>\n",
       "      <th>19</th>\n",
       "      <td>173</td>\n",
       "      <td>88</td>\n",
       "    </tr>\n",
       "  </tbody>\n",
       "</table>\n",
       "</div>"
      ],
      "text/plain": [
       "    Height  Weight\n",
       "0      160      55\n",
       "1      165      60\n",
       "2      170      65\n",
       "3      162      58\n",
       "4      158      57\n",
       "5      280      80\n",
       "6      168      63\n",
       "7      172      90\n",
       "8      159      54\n",
       "9      161      56\n",
       "10     145      40\n",
       "11     300     120\n",
       "12     155      42\n",
       "13     175     110\n",
       "14     167      72\n",
       "15     169      75\n",
       "16     171      78\n",
       "17     166      80\n",
       "18     164      85\n",
       "19     173      88"
      ]
     },
     "execution_count": 529,
     "metadata": {},
     "output_type": "execute_result"
    }
   ],
   "source": [
    "df_z = pd.DataFrame({\n",
    "    'Height': [160, 165, 170, 162, 158, 280, 168, 172, 159, 161, 145, 300, 155, 175,\n",
    "               167, 169, 171, 166, 164, 173],\n",
    "    'Weight': [55, 60, 65, 58, 57, 80, 63, 90, 54, 56, 40, 120, 42, 110,\n",
    "               72, 75, 78, 80, 85, 88]\n",
    "})\n",
    "df_z"
   ]
  },
  {
   "cell_type": "code",
   "execution_count": 530,
   "id": "e6542821",
   "metadata": {},
   "outputs": [
    {
     "data": {
      "image/png": "[encoded data removed]",
      "text/plain": [
       "<Figure size 600x400 with 1 Axes>"
      ]
     },
     "metadata": {},
     "output_type": "display_data"
    }
   ],
   "source": [
    "plt.figure(figsize=(6,4))\n",
    "sns.scatterplot(data=df_z, x='Weight', y='Height')\n",
    "plt.title(\"Scatter Plot of Height vs Weight\")\n",
    "plt.xlabel(\"Weight\")\n",
    "plt.ylabel(\"Height\")\n",
    "plt.show()"
   ]
  },
  {
   "cell_type": "code",
   "execution_count": 531,
   "id": "cffc2228",
   "metadata": {},
   "outputs": [
    {
     "data": {
      "text/plain": [
       "array([[0.44256729, 0.81237907],\n",
       "       [0.31240044, 0.56470253],\n",
       "       [0.18223359, 0.31702598],\n",
       "       [0.39050055, 0.66377315],\n",
       "       [0.49463403, 0.71330845],\n",
       "       [2.68143712, 0.42600366],\n",
       "       [0.23430033, 0.4160966 ],\n",
       "       [0.13016685, 0.92135675],\n",
       "       [0.46860066, 0.86191438],\n",
       "       [0.41653392, 0.76284376],\n",
       "       [0.83306784, 1.55540871],\n",
       "       [3.20210453, 2.40741603],\n",
       "       [0.57273414, 1.45633809],\n",
       "       [0.05206674, 1.91206294],\n",
       "       [0.2603337 , 0.02972119],\n",
       "       [0.20826696, 0.17832711],\n",
       "       [0.15620022, 0.32693304],\n",
       "       [0.28636707, 0.42600366],\n",
       "       [0.33843381, 0.67368021],\n",
       "       [0.10413348, 0.82228614]])"
      ]
     },
     "execution_count": 531,
     "metadata": {},
     "output_type": "execute_result"
    }
   ],
   "source": [
    "# Calculate Z-scores\n",
    "z_scores = np.abs(stats.zscore(df_z))\n",
    "z_scores"
   ]
  },
  {
   "cell_type": "code",
   "execution_count": 532,
   "id": "f9fc93d0",
   "metadata": {},
   "outputs": [
    {
     "name": "stdout",
     "output_type": "stream",
     "text": [
      "Data with Z-score outlier flags under |Z|>3:\n"
     ]
    },
    {
     "data": {
      "text/html": [
       "<div>\n",
       "<style scoped>\n",
       "    .dataframe tbody tr th:only-of-type {\n",
       "        vertical-align: middle;\n",
       "    }\n",
       "\n",
       "    .dataframe tbody tr th {\n",
       "        vertical-align: top;\n",
       "    }\n",
       "\n",
       "    .dataframe thead th {\n",
       "        text-align: right;\n",
       "    }\n",
       "</style>\n",
       "<table border=\"1\" class=\"dataframe\">\n",
       "  <thead>\n",
       "    <tr style=\"text-align: right;\">\n",
       "      <th></th>\n",
       "      <th>Height</th>\n",
       "      <th>Weight</th>\n",
       "      <th>Height_outlier_z</th>\n",
       "      <th>Weight_outlier_z</th>\n",
       "    </tr>\n",
       "  </thead>\n",
       "  <tbody>\n",
       "    <tr>\n",
       "      <th>11</th>\n",
       "      <td>300</td>\n",
       "      <td>120</td>\n",
       "      <td>True</td>\n",
       "      <td>False</td>\n",
       "    </tr>\n",
       "  </tbody>\n",
       "</table>\n",
       "</div>"
      ],
      "text/plain": [
       "    Height  Weight  Height_outlier_z  Weight_outlier_z\n",
       "11     300     120              True             False"
      ]
     },
     "execution_count": 532,
     "metadata": {},
     "output_type": "execute_result"
    }
   ],
   "source": [
    "# Calculate Z-scores\n",
    "z_scores = np.abs(stats.zscore(df_z))\n",
    "z_scores\n",
    "\n",
    "# Flag outliers (|Z| > 3)\n",
    "outliers = (z_scores > 3)\n",
    "df_z['Height_outlier_z'] = outliers[:, 0]\n",
    "df_z['Weight_outlier_z'] = outliers[:, 1]\n",
    "\n",
    "print(\"Data with Z-score outlier flags under |Z|>3:\")\n",
    "df_z.query('Height_outlier_z == True or Weight_outlier_z == True')"
   ]
  },
  {
   "cell_type": "code",
   "execution_count": 533,
   "id": "c11a63ac",
   "metadata": {},
   "outputs": [
    {
     "name": "stdout",
     "output_type": "stream",
     "text": [
      "Data with Z-score outlier flags under |Z|>2:\n"
     ]
    },
    {
     "data": {
      "text/html": [
       "<div>\n",
       "<style scoped>\n",
       "    .dataframe tbody tr th:only-of-type {\n",
       "        vertical-align: middle;\n",
       "    }\n",
       "\n",
       "    .dataframe tbody tr th {\n",
       "        vertical-align: top;\n",
       "    }\n",
       "\n",
       "    .dataframe thead th {\n",
       "        text-align: right;\n",
       "    }\n",
       "</style>\n",
       "<table border=\"1\" class=\"dataframe\">\n",
       "  <thead>\n",
       "    <tr style=\"text-align: right;\">\n",
       "      <th></th>\n",
       "      <th>Height</th>\n",
       "      <th>Weight</th>\n",
       "      <th>Height_outlier_z</th>\n",
       "      <th>Weight_outlier_z</th>\n",
       "    </tr>\n",
       "  </thead>\n",
       "  <tbody>\n",
       "    <tr>\n",
       "      <th>5</th>\n",
       "      <td>280</td>\n",
       "      <td>80</td>\n",
       "      <td>True</td>\n",
       "      <td>False</td>\n",
       "    </tr>\n",
       "    <tr>\n",
       "      <th>11</th>\n",
       "      <td>300</td>\n",
       "      <td>120</td>\n",
       "      <td>True</td>\n",
       "      <td>True</td>\n",
       "    </tr>\n",
       "  </tbody>\n",
       "</table>\n",
       "</div>"
      ],
      "text/plain": [
       "    Height  Weight  Height_outlier_z  Weight_outlier_z\n",
       "5      280      80              True             False\n",
       "11     300     120              True              True"
      ]
     },
     "execution_count": 533,
     "metadata": {},
     "output_type": "execute_result"
    }
   ],
   "source": [
    "# Flag outliers (|Z| > 2)\n",
    "outliers = (z_scores > 2)\n",
    "df_z['Height_outlier_z'] = outliers[:, 0]\n",
    "df_z['Weight_outlier_z'] = outliers[:, 1]\n",
    "\n",
    "print(\"Data with Z-score outlier flags under |Z|>2:\")\n",
    "df_z.query('Height_outlier_z == True or Weight_outlier_z == True')"
   ]
  },
  {
   "cell_type": "markdown",
   "id": "8e55ca1f",
   "metadata": {},
   "source": [
    "Model based outlier replacement"
   ]
  },
  {
   "cell_type": "code",
   "execution_count": 534,
   "id": "b577d0b2",
   "metadata": {},
   "outputs": [],
   "source": [
    "from sklearn.impute import KNNImputer\n",
    "df_knn = pd.DataFrame({'Age': [23, 25, 26, 24, 120, 28, 22], 'Salary': [4000, 4200, 4100, 4300, 15000, 4400, 4000]})"
   ]
  },
  {
   "cell_type": "code",
   "execution_count": 535,
   "id": "7d9f27ff",
   "metadata": {},
   "outputs": [
    {
     "data": {
      "image/png": "[encoded data removed]",
      "text/plain": [
       "<Figure size 600x400 with 1 Axes>"
      ]
     },
     "metadata": {},
     "output_type": "display_data"
    }
   ],
   "source": [
    "plt.figure(figsize=(6,4))\n",
    "sns.scatterplot(data=df_knn, x='Age', y='Salary')\n",
    "plt.title(\"Scatter Plot of Age vs Salary\")\n",
    "plt.xlabel(\"Age\")\n",
    "plt.ylabel(\"Salary\")\n",
    "plt.show()"
   ]
  },
  {
   "cell_type": "code",
   "execution_count": 536,
   "id": "b527866a",
   "metadata": {},
   "outputs": [
    {
     "data": {
      "text/html": [
       "<div>\n",
       "<style scoped>\n",
       "    .dataframe tbody tr th:only-of-type {\n",
       "        vertical-align: middle;\n",
       "    }\n",
       "\n",
       "    .dataframe tbody tr th {\n",
       "        vertical-align: top;\n",
       "    }\n",
       "\n",
       "    .dataframe thead th {\n",
       "        text-align: right;\n",
       "    }\n",
       "</style>\n",
       "<table border=\"1\" class=\"dataframe\">\n",
       "  <thead>\n",
       "    <tr style=\"text-align: right;\">\n",
       "      <th></th>\n",
       "      <th>Age</th>\n",
       "      <th>Salary</th>\n",
       "    </tr>\n",
       "  </thead>\n",
       "  <tbody>\n",
       "    <tr>\n",
       "      <th>0</th>\n",
       "      <td>23.0</td>\n",
       "      <td>4000.0</td>\n",
       "    </tr>\n",
       "    <tr>\n",
       "      <th>1</th>\n",
       "      <td>25.0</td>\n",
       "      <td>4200.0</td>\n",
       "    </tr>\n",
       "    <tr>\n",
       "      <th>2</th>\n",
       "      <td>26.0</td>\n",
       "      <td>4100.0</td>\n",
       "    </tr>\n",
       "    <tr>\n",
       "      <th>3</th>\n",
       "      <td>24.0</td>\n",
       "      <td>4300.0</td>\n",
       "    </tr>\n",
       "    <tr>\n",
       "      <th>4</th>\n",
       "      <td>120.0</td>\n",
       "      <td>15000.0</td>\n",
       "    </tr>\n",
       "    <tr>\n",
       "      <th>5</th>\n",
       "      <td>28.0</td>\n",
       "      <td>4400.0</td>\n",
       "    </tr>\n",
       "    <tr>\n",
       "      <th>6</th>\n",
       "      <td>22.0</td>\n",
       "      <td>4000.0</td>\n",
       "    </tr>\n",
       "  </tbody>\n",
       "</table>\n",
       "</div>"
      ],
      "text/plain": [
       "     Age   Salary\n",
       "0   23.0   4000.0\n",
       "1   25.0   4200.0\n",
       "2   26.0   4100.0\n",
       "3   24.0   4300.0\n",
       "4  120.0  15000.0\n",
       "5   28.0   4400.0\n",
       "6   22.0   4000.0"
      ]
     },
     "execution_count": 536,
     "metadata": {},
     "output_type": "execute_result"
    }
   ],
   "source": [
    "# Imputing outliers using KNN\n",
    "imputer = KNNImputer(n_neighbors=2)\n",
    "df_knn_imputed = pd.DataFrame(imputer.fit_transform(df_knn), columns=df_knn.columns)\n",
    "df_knn_imputed"
   ]
  },
  {
   "cell_type": "markdown",
   "id": "07b29751",
   "metadata": {},
   "source": [
    "#### Using Isolation Forest to detect outliers in datasets with numeric variables."
   ]
  },
  {
   "cell_type": "code",
   "execution_count": 537,
   "id": "08357cbb",
   "metadata": {},
   "outputs": [],
   "source": [
    "from sklearn.ensemble import IsolationForest\n",
    "\n",
    "# Example mixed-type dataset (numeric columns only for outlier detection)\n",
    "df_mixed = pd.DataFrame({\n",
    "    'Age': [25, 27, 26, 29, 90],\n",
    "    'Income': [50000, 52000, 51000, 48000, 200000]\n",
    "})"
   ]
  },
  {
   "cell_type": "code",
   "execution_count": 538,
   "id": "6f5f2b02",
   "metadata": {},
   "outputs": [
    {
     "data": {
      "text/html": [
       "<div>\n",
       "<style scoped>\n",
       "    .dataframe tbody tr th:only-of-type {\n",
       "        vertical-align: middle;\n",
       "    }\n",
       "\n",
       "    .dataframe tbody tr th {\n",
       "        vertical-align: top;\n",
       "    }\n",
       "\n",
       "    .dataframe thead th {\n",
       "        text-align: right;\n",
       "    }\n",
       "</style>\n",
       "<table border=\"1\" class=\"dataframe\">\n",
       "  <thead>\n",
       "    <tr style=\"text-align: right;\">\n",
       "      <th></th>\n",
       "      <th>Age</th>\n",
       "      <th>Income</th>\n",
       "      <th>outlier_flag</th>\n",
       "    </tr>\n",
       "  </thead>\n",
       "  <tbody>\n",
       "    <tr>\n",
       "      <th>0</th>\n",
       "      <td>25</td>\n",
       "      <td>50000</td>\n",
       "      <td>1</td>\n",
       "    </tr>\n",
       "    <tr>\n",
       "      <th>1</th>\n",
       "      <td>27</td>\n",
       "      <td>52000</td>\n",
       "      <td>1</td>\n",
       "    </tr>\n",
       "    <tr>\n",
       "      <th>2</th>\n",
       "      <td>26</td>\n",
       "      <td>51000</td>\n",
       "      <td>1</td>\n",
       "    </tr>\n",
       "    <tr>\n",
       "      <th>3</th>\n",
       "      <td>29</td>\n",
       "      <td>48000</td>\n",
       "      <td>1</td>\n",
       "    </tr>\n",
       "    <tr>\n",
       "      <th>4</th>\n",
       "      <td>90</td>\n",
       "      <td>200000</td>\n",
       "      <td>-1</td>\n",
       "    </tr>\n",
       "  </tbody>\n",
       "</table>\n",
       "</div>"
      ],
      "text/plain": [
       "   Age  Income  outlier_flag\n",
       "0   25   50000             1\n",
       "1   27   52000             1\n",
       "2   26   51000             1\n",
       "3   29   48000             1\n",
       "4   90  200000            -1"
      ]
     },
     "execution_count": 538,
     "metadata": {},
     "output_type": "execute_result"
    }
   ],
   "source": [
    "# Isolation Forest to detect outliers\n",
    "iso = IsolationForest(contamination=0.2, random_state=42)\n",
    "df_mixed['outlier_flag'] = iso.fit_predict(df_mixed)\n",
    "df_mixed"
   ]
  },
  {
   "cell_type": "code",
   "execution_count": 539,
   "id": "2af8f18d",
   "metadata": {},
   "outputs": [
    {
     "data": {
      "image/png": "[encoded data removed]",
      "text/plain": [
       "<Figure size 500x300 with 1 Axes>"
      ]
     },
     "metadata": {},
     "output_type": "display_data"
    }
   ],
   "source": [
    "plt.figure(figsize=(5,3))\n",
    "sns.scatterplot(data=df_mixed, x='Age', y='Income', hue='outlier_flag',\n",
    "                palette={1:'blue', -1:'red'})\n",
    "plt.title(\"Scatter Plot of Income vs Age\")\n",
    "plt.show()"
   ]
  },
  {
   "cell_type": "code",
   "execution_count": 540,
   "id": "a12d74f9",
   "metadata": {},
   "outputs": [
    {
     "data": {
      "text/html": [
       "<div>\n",
       "<style scoped>\n",
       "    .dataframe tbody tr th:only-of-type {\n",
       "        vertical-align: middle;\n",
       "    }\n",
       "\n",
       "    .dataframe tbody tr th {\n",
       "        vertical-align: top;\n",
       "    }\n",
       "\n",
       "    .dataframe thead th {\n",
       "        text-align: right;\n",
       "    }\n",
       "</style>\n",
       "<table border=\"1\" class=\"dataframe\">\n",
       "  <thead>\n",
       "    <tr style=\"text-align: right;\">\n",
       "      <th></th>\n",
       "      <th>Age</th>\n",
       "      <th>Income</th>\n",
       "      <th>outlier_flag</th>\n",
       "    </tr>\n",
       "  </thead>\n",
       "  <tbody>\n",
       "    <tr>\n",
       "      <th>0</th>\n",
       "      <td>25</td>\n",
       "      <td>50000</td>\n",
       "      <td>1</td>\n",
       "    </tr>\n",
       "    <tr>\n",
       "      <th>1</th>\n",
       "      <td>27</td>\n",
       "      <td>52000</td>\n",
       "      <td>1</td>\n",
       "    </tr>\n",
       "    <tr>\n",
       "      <th>2</th>\n",
       "      <td>26</td>\n",
       "      <td>51000</td>\n",
       "      <td>1</td>\n",
       "    </tr>\n",
       "    <tr>\n",
       "      <th>3</th>\n",
       "      <td>29</td>\n",
       "      <td>48000</td>\n",
       "      <td>1</td>\n",
       "    </tr>\n",
       "    <tr>\n",
       "      <th>4</th>\n",
       "      <td>90</td>\n",
       "      <td>200000</td>\n",
       "      <td>-1</td>\n",
       "    </tr>\n",
       "  </tbody>\n",
       "</table>\n",
       "</div>"
      ],
      "text/plain": [
       "   Age  Income  outlier_flag\n",
       "0   25   50000             1\n",
       "1   27   52000             1\n",
       "2   26   51000             1\n",
       "3   29   48000             1\n",
       "4   90  200000            -1"
      ]
     },
     "execution_count": 540,
     "metadata": {},
     "output_type": "execute_result"
    }
   ],
   "source": [
    "# In IsolationForest: -1 indicates outlier, 1 indicates inlier\n",
    "df_mixed"
   ]
  },
  {
   "cell_type": "code",
   "execution_count": 541,
   "id": "1fd21bc3",
   "metadata": {},
   "outputs": [
    {
     "name": "stdout",
     "output_type": "stream",
     "text": [
      "After replacing outliers with NaN:\n"
     ]
    },
    {
     "data": {
      "text/html": [
       "<div>\n",
       "<style scoped>\n",
       "    .dataframe tbody tr th:only-of-type {\n",
       "        vertical-align: middle;\n",
       "    }\n",
       "\n",
       "    .dataframe tbody tr th {\n",
       "        vertical-align: top;\n",
       "    }\n",
       "\n",
       "    .dataframe thead th {\n",
       "        text-align: right;\n",
       "    }\n",
       "</style>\n",
       "<table border=\"1\" class=\"dataframe\">\n",
       "  <thead>\n",
       "    <tr style=\"text-align: right;\">\n",
       "      <th></th>\n",
       "      <th>Age</th>\n",
       "      <th>Income</th>\n",
       "      <th>outlier_flag</th>\n",
       "    </tr>\n",
       "  </thead>\n",
       "  <tbody>\n",
       "    <tr>\n",
       "      <th>0</th>\n",
       "      <td>25.0</td>\n",
       "      <td>50000.0</td>\n",
       "      <td>1</td>\n",
       "    </tr>\n",
       "    <tr>\n",
       "      <th>1</th>\n",
       "      <td>27.0</td>\n",
       "      <td>52000.0</td>\n",
       "      <td>1</td>\n",
       "    </tr>\n",
       "    <tr>\n",
       "      <th>2</th>\n",
       "      <td>26.0</td>\n",
       "      <td>51000.0</td>\n",
       "      <td>1</td>\n",
       "    </tr>\n",
       "    <tr>\n",
       "      <th>3</th>\n",
       "      <td>29.0</td>\n",
       "      <td>48000.0</td>\n",
       "      <td>1</td>\n",
       "    </tr>\n",
       "    <tr>\n",
       "      <th>4</th>\n",
       "      <td>NaN</td>\n",
       "      <td>NaN</td>\n",
       "      <td>-1</td>\n",
       "    </tr>\n",
       "  </tbody>\n",
       "</table>\n",
       "</div>"
      ],
      "text/plain": [
       "    Age   Income  outlier_flag\n",
       "0  25.0  50000.0             1\n",
       "1  27.0  52000.0             1\n",
       "2  26.0  51000.0             1\n",
       "3  29.0  48000.0             1\n",
       "4   NaN      NaN            -1"
      ]
     },
     "execution_count": 541,
     "metadata": {},
     "output_type": "execute_result"
    }
   ],
   "source": [
    "# Handling: replace outliers with NaN for later imputation\n",
    "df_mixed_handled = df_mixed.copy()\n",
    "df_mixed_handled.loc[df_mixed_handled['outlier_flag'] == -1, ['Age', 'Income']] = pd.NA\n",
    "print(\"After replacing outliers with NaN:\")\n",
    "df_mixed_handled\n"
   ]
  },
  {
   "cell_type": "code",
   "execution_count": 542,
   "id": "969b0fd2",
   "metadata": {},
   "outputs": [],
   "source": [
    "df_mixed = pd.DataFrame({\n",
    "    'Age': [25, 27, 26, 29, 90],\n",
    "    'Income': [50000, 52000, 51000, 48000, 200000]\n",
    "})"
   ]
  },
  {
   "cell_type": "code",
   "execution_count": 543,
   "id": "a03dc7b5",
   "metadata": {},
   "outputs": [
    {
     "data": {
      "text/html": [
       "<div>\n",
       "<style scoped>\n",
       "    .dataframe tbody tr th:only-of-type {\n",
       "        vertical-align: middle;\n",
       "    }\n",
       "\n",
       "    .dataframe tbody tr th {\n",
       "        vertical-align: top;\n",
       "    }\n",
       "\n",
       "    .dataframe thead th {\n",
       "        text-align: right;\n",
       "    }\n",
       "</style>\n",
       "<table border=\"1\" class=\"dataframe\">\n",
       "  <thead>\n",
       "    <tr style=\"text-align: right;\">\n",
       "      <th></th>\n",
       "      <th>Age</th>\n",
       "      <th>Income</th>\n",
       "      <th>outlier_flag</th>\n",
       "    </tr>\n",
       "  </thead>\n",
       "  <tbody>\n",
       "    <tr>\n",
       "      <th>0</th>\n",
       "      <td>25</td>\n",
       "      <td>50000</td>\n",
       "      <td>1</td>\n",
       "    </tr>\n",
       "    <tr>\n",
       "      <th>1</th>\n",
       "      <td>27</td>\n",
       "      <td>52000</td>\n",
       "      <td>1</td>\n",
       "    </tr>\n",
       "    <tr>\n",
       "      <th>2</th>\n",
       "      <td>26</td>\n",
       "      <td>51000</td>\n",
       "      <td>1</td>\n",
       "    </tr>\n",
       "    <tr>\n",
       "      <th>3</th>\n",
       "      <td>29</td>\n",
       "      <td>48000</td>\n",
       "      <td>1</td>\n",
       "    </tr>\n",
       "    <tr>\n",
       "      <th>4</th>\n",
       "      <td>90</td>\n",
       "      <td>200000</td>\n",
       "      <td>-1</td>\n",
       "    </tr>\n",
       "  </tbody>\n",
       "</table>\n",
       "</div>"
      ],
      "text/plain": [
       "   Age  Income  outlier_flag\n",
       "0   25   50000             1\n",
       "1   27   52000             1\n",
       "2   26   51000             1\n",
       "3   29   48000             1\n",
       "4   90  200000            -1"
      ]
     },
     "execution_count": 543,
     "metadata": {},
     "output_type": "execute_result"
    }
   ],
   "source": [
    "from sklearn.ensemble import IsolationForest\n",
    "\n",
    "# Isolation Forest to detect outliers\n",
    "iso = IsolationForest(contamination=0.2, random_state=42)\n",
    "df_mixed['outlier_flag'] = iso.fit_predict(df_mixed)\n",
    "df_mixed"
   ]
  },
  {
   "cell_type": "markdown",
   "id": "b19b6c6b",
   "metadata": {},
   "source": [
    "### 2) Categorical Data\n",
    "Detection of rare categories and handling."
   ]
  },
  {
   "cell_type": "code",
   "execution_count": 544,
   "id": "92e3bc5f",
   "metadata": {},
   "outputs": [],
   "source": [
    "# Example categorical data\n",
    "df_cat = pd.DataFrame({'City': ['Colombo', 'Kandy', 'Galle', 'Colombo', 'Paris']})"
   ]
  },
  {
   "cell_type": "code",
   "execution_count": 545,
   "id": "49379181",
   "metadata": {},
   "outputs": [
    {
     "data": {
      "text/plain": [
       "City\n",
       "Colombo    0.502\n",
       "Kandy      0.298\n",
       "Galle      0.193\n",
       "Paris      0.006\n",
       "Kolombo    0.001\n",
       "Name: proportion, dtype: float64"
      ]
     },
     "execution_count": 545,
     "metadata": {},
     "output_type": "execute_result"
    }
   ],
   "source": [
    "# Create a skewed categorical dataset\n",
    "cities = ['Colombo', 'Kandy', 'Galle', 'Paris']\n",
    "weights = [0.5, 0.3, 0.19, 0.01]  # Probabilities summing to 1\n",
    "\n",
    "np.random.seed(42)  # for reproducibility\n",
    "df_cat = pd.DataFrame({\n",
    "    'City': np.random.choice(cities, size=1000, p=weights)\n",
    "})\n",
    "\n",
    "# Introduce one typo for outlier handling\n",
    "df_cat.loc[df_cat.sample(1).index, 'City'] = 'Kolombo'\n",
    "df_cat['City'].value_counts(normalize=True)  # Shows distribution in %\n"
   ]
  },
  {
   "cell_type": "code",
   "execution_count": 546,
   "id": "191580c5",
   "metadata": {},
   "outputs": [
    {
     "data": {
      "image/png": "[encoded data removed]",
      "text/plain": [
       "<Figure size 600x400 with 1 Axes>"
      ]
     },
     "metadata": {},
     "output_type": "display_data"
    }
   ],
   "source": [
    "freq = df_cat['City'].value_counts()\n",
    "\n",
    "plt.figure(figsize=(6,4))\n",
    "sns.barplot(x=freq.index, y=freq.values)\n",
    "plt.title(\"Frequency of Categories in City\")\n",
    "plt.ylabel(\"Count\")\n",
    "plt.show()"
   ]
  },
  {
   "cell_type": "markdown",
   "id": "d45cd2cf",
   "metadata": {},
   "source": [
    "Cleaning misspellings"
   ]
  },
  {
   "cell_type": "code",
   "execution_count": 547,
   "id": "789f2e03",
   "metadata": {},
   "outputs": [
    {
     "data": {
      "text/plain": [
       "City\n",
       "Colombo    0.503\n",
       "Kandy      0.298\n",
       "Galle      0.193\n",
       "Paris      0.006\n",
       "Name: proportion, dtype: float64"
      ]
     },
     "execution_count": 547,
     "metadata": {},
     "output_type": "execute_result"
    }
   ],
   "source": [
    "# Correct the typo for Colombo\n",
    "df_cat['City'] = df_cat['City'].replace('Kolombo', 'Colombo')\n",
    "\n",
    "# Check the updated value counts\n",
    "df_cat['City'].value_counts(normalize=True)"
   ]
  },
  {
   "cell_type": "markdown",
   "id": "17cfce58",
   "metadata": {},
   "source": [
    "Detection"
   ]
  },
  {
   "cell_type": "code",
   "execution_count": 548,
   "id": "9961a245",
   "metadata": {},
   "outputs": [
    {
     "data": {
      "image/png": "[encoded data removed]",
      "text/plain": [
       "<Figure size 600x400 with 1 Axes>"
      ]
     },
     "metadata": {},
     "output_type": "display_data"
    }
   ],
   "source": [
    "freq = df_cat['City'].value_counts()\n",
    "\n",
    "plt.figure(figsize=(6,4))\n",
    "sns.barplot(x=freq.index, y=freq.values)\n",
    "plt.title(\"Frequency of Categories in City\")\n",
    "plt.ylabel(\"Count\")\n",
    "plt.show()"
   ]
  },
  {
   "cell_type": "code",
   "execution_count": 549,
   "id": "94a8bdd8",
   "metadata": {},
   "outputs": [
    {
     "data": {
      "text/plain": [
       "Index(['Paris'], dtype='object', name='City')"
      ]
     },
     "execution_count": 549,
     "metadata": {},
     "output_type": "execute_result"
    }
   ],
   "source": [
    "# Detect rare categories (less than 10% frequency)\n",
    "freq = df_cat['City'].value_counts(normalize=True)\n",
    "rare_labels = freq[freq < 0.1].index\n",
    "rare_labels"
   ]
  },
  {
   "cell_type": "code",
   "execution_count": 550,
   "id": "6fa521bd",
   "metadata": {},
   "outputs": [
    {
     "data": {
      "text/html": [
       "<div>\n",
       "<style scoped>\n",
       "    .dataframe tbody tr th:only-of-type {\n",
       "        vertical-align: middle;\n",
       "    }\n",
       "\n",
       "    .dataframe tbody tr th {\n",
       "        vertical-align: top;\n",
       "    }\n",
       "\n",
       "    .dataframe thead th {\n",
       "        text-align: right;\n",
       "    }\n",
       "</style>\n",
       "<table border=\"1\" class=\"dataframe\">\n",
       "  <thead>\n",
       "    <tr style=\"text-align: right;\">\n",
       "      <th></th>\n",
       "      <th>City</th>\n",
       "      <th>City_cleaned</th>\n",
       "    </tr>\n",
       "  </thead>\n",
       "  <tbody>\n",
       "    <tr>\n",
       "      <th>0</th>\n",
       "      <td>Colombo</td>\n",
       "      <td>Colombo</td>\n",
       "    </tr>\n",
       "    <tr>\n",
       "      <th>1</th>\n",
       "      <td>Galle</td>\n",
       "      <td>Galle</td>\n",
       "    </tr>\n",
       "    <tr>\n",
       "      <th>2</th>\n",
       "      <td>Kandy</td>\n",
       "      <td>Kandy</td>\n",
       "    </tr>\n",
       "    <tr>\n",
       "      <th>3</th>\n",
       "      <td>Kandy</td>\n",
       "      <td>Kandy</td>\n",
       "    </tr>\n",
       "    <tr>\n",
       "      <th>4</th>\n",
       "      <td>Colombo</td>\n",
       "      <td>Colombo</td>\n",
       "    </tr>\n",
       "    <tr>\n",
       "      <th>...</th>\n",
       "      <td>...</td>\n",
       "      <td>...</td>\n",
       "    </tr>\n",
       "    <tr>\n",
       "      <th>995</th>\n",
       "      <td>Colombo</td>\n",
       "      <td>Colombo</td>\n",
       "    </tr>\n",
       "    <tr>\n",
       "      <th>996</th>\n",
       "      <td>Galle</td>\n",
       "      <td>Galle</td>\n",
       "    </tr>\n",
       "    <tr>\n",
       "      <th>997</th>\n",
       "      <td>Colombo</td>\n",
       "      <td>Colombo</td>\n",
       "    </tr>\n",
       "    <tr>\n",
       "      <th>998</th>\n",
       "      <td>Galle</td>\n",
       "      <td>Galle</td>\n",
       "    </tr>\n",
       "    <tr>\n",
       "      <th>999</th>\n",
       "      <td>Colombo</td>\n",
       "      <td>Colombo</td>\n",
       "    </tr>\n",
       "  </tbody>\n",
       "</table>\n",
       "<p>1000 rows × 2 columns</p>\n",
       "</div>"
      ],
      "text/plain": [
       "        City City_cleaned\n",
       "0    Colombo      Colombo\n",
       "1      Galle        Galle\n",
       "2      Kandy        Kandy\n",
       "3      Kandy        Kandy\n",
       "4    Colombo      Colombo\n",
       "..       ...          ...\n",
       "995  Colombo      Colombo\n",
       "996    Galle        Galle\n",
       "997  Colombo      Colombo\n",
       "998    Galle        Galle\n",
       "999  Colombo      Colombo\n",
       "\n",
       "[1000 rows x 2 columns]"
      ]
     },
     "execution_count": 550,
     "metadata": {},
     "output_type": "execute_result"
    }
   ],
   "source": [
    "# Replace rare categories with 'Other'\n",
    "df_cat['City_cleaned'] = df_cat['City'].replace(rare_labels, 'Other')\n",
    "df_cat"
   ]
  },
  {
   "cell_type": "code",
   "execution_count": 551,
   "id": "67269145",
   "metadata": {},
   "outputs": [
    {
     "data": {
      "image/png": "[encoded data removed]",
      "text/plain": [
       "<Figure size 600x400 with 1 Axes>"
      ]
     },
     "metadata": {},
     "output_type": "display_data"
    }
   ],
   "source": [
    "freq = df_cat['City_cleaned'].value_counts()\n",
    "\n",
    "plt.figure(figsize=(6,4))\n",
    "sns.barplot(x=freq.index, y=freq.values)\n",
    "plt.title(\"Frequency of Categories in City\")\n",
    "plt.ylabel(\"Count\")\n",
    "plt.show()"
   ]
  },
  {
   "cell_type": "code",
   "execution_count": 552,
   "id": "9b45a08e",
   "metadata": {},
   "outputs": [
    {
     "data": {
      "text/html": [
       "<div>\n",
       "<style scoped>\n",
       "    .dataframe tbody tr th:only-of-type {\n",
       "        vertical-align: middle;\n",
       "    }\n",
       "\n",
       "    .dataframe tbody tr th {\n",
       "        vertical-align: top;\n",
       "    }\n",
       "\n",
       "    .dataframe thead th {\n",
       "        text-align: right;\n",
       "    }\n",
       "</style>\n",
       "<table border=\"1\" class=\"dataframe\">\n",
       "  <thead>\n",
       "    <tr style=\"text-align: right;\">\n",
       "      <th></th>\n",
       "      <th>City</th>\n",
       "      <th>City_cleaned</th>\n",
       "    </tr>\n",
       "  </thead>\n",
       "  <tbody>\n",
       "    <tr>\n",
       "      <th>261</th>\n",
       "      <td>Paris</td>\n",
       "      <td>Other</td>\n",
       "    </tr>\n",
       "    <tr>\n",
       "      <th>390</th>\n",
       "      <td>Paris</td>\n",
       "      <td>Other</td>\n",
       "    </tr>\n",
       "    <tr>\n",
       "      <th>475</th>\n",
       "      <td>Paris</td>\n",
       "      <td>Other</td>\n",
       "    </tr>\n",
       "    <tr>\n",
       "      <th>531</th>\n",
       "      <td>Paris</td>\n",
       "      <td>Other</td>\n",
       "    </tr>\n",
       "    <tr>\n",
       "      <th>532</th>\n",
       "      <td>Paris</td>\n",
       "      <td>Other</td>\n",
       "    </tr>\n",
       "    <tr>\n",
       "      <th>847</th>\n",
       "      <td>Paris</td>\n",
       "      <td>Other</td>\n",
       "    </tr>\n",
       "  </tbody>\n",
       "</table>\n",
       "</div>"
      ],
      "text/plain": [
       "      City City_cleaned\n",
       "261  Paris        Other\n",
       "390  Paris        Other\n",
       "475  Paris        Other\n",
       "531  Paris        Other\n",
       "532  Paris        Other\n",
       "847  Paris        Other"
      ]
     },
     "execution_count": 552,
     "metadata": {},
     "output_type": "execute_result"
    }
   ],
   "source": [
    "df_cat[df_cat['City_cleaned'] == \"Other\"]"
   ]
  },
  {
   "cell_type": "code",
   "execution_count": 553,
   "id": "21784b4d",
   "metadata": {},
   "outputs": [
    {
     "name": "stdout",
     "output_type": "stream",
     "text": [
      "Before: 1000\n",
      "After: 994\n"
     ]
    }
   ],
   "source": [
    "print(f\"Before: {len(df_cat)}\")\n",
    "\n",
    "# removing those in the other category\n",
    "df_cat = df_cat[df_cat['City_cleaned'] != \"Other\"]\n",
    "\n",
    "print(f\"After: {len(df_cat)}\")"
   ]
  },
  {
   "cell_type": "code",
   "execution_count": 554,
   "id": "032d6268",
   "metadata": {},
   "outputs": [
    {
     "data": {
      "text/html": [
       "<div>\n",
       "<style scoped>\n",
       "    .dataframe tbody tr th:only-of-type {\n",
       "        vertical-align: middle;\n",
       "    }\n",
       "\n",
       "    .dataframe tbody tr th {\n",
       "        vertical-align: top;\n",
       "    }\n",
       "\n",
       "    .dataframe thead th {\n",
       "        text-align: right;\n",
       "    }\n",
       "</style>\n",
       "<table border=\"1\" class=\"dataframe\">\n",
       "  <thead>\n",
       "    <tr style=\"text-align: right;\">\n",
       "      <th></th>\n",
       "      <th>City</th>\n",
       "      <th>City_cleaned</th>\n",
       "    </tr>\n",
       "  </thead>\n",
       "  <tbody>\n",
       "    <tr>\n",
       "      <th>0</th>\n",
       "      <td>Colombo</td>\n",
       "      <td>Colombo</td>\n",
       "    </tr>\n",
       "    <tr>\n",
       "      <th>1</th>\n",
       "      <td>Galle</td>\n",
       "      <td>Galle</td>\n",
       "    </tr>\n",
       "    <tr>\n",
       "      <th>2</th>\n",
       "      <td>Kandy</td>\n",
       "      <td>Kandy</td>\n",
       "    </tr>\n",
       "    <tr>\n",
       "      <th>3</th>\n",
       "      <td>Kandy</td>\n",
       "      <td>Kandy</td>\n",
       "    </tr>\n",
       "    <tr>\n",
       "      <th>4</th>\n",
       "      <td>Colombo</td>\n",
       "      <td>Colombo</td>\n",
       "    </tr>\n",
       "    <tr>\n",
       "      <th>...</th>\n",
       "      <td>...</td>\n",
       "      <td>...</td>\n",
       "    </tr>\n",
       "    <tr>\n",
       "      <th>995</th>\n",
       "      <td>Colombo</td>\n",
       "      <td>Colombo</td>\n",
       "    </tr>\n",
       "    <tr>\n",
       "      <th>996</th>\n",
       "      <td>Galle</td>\n",
       "      <td>Galle</td>\n",
       "    </tr>\n",
       "    <tr>\n",
       "      <th>997</th>\n",
       "      <td>Colombo</td>\n",
       "      <td>Colombo</td>\n",
       "    </tr>\n",
       "    <tr>\n",
       "      <th>998</th>\n",
       "      <td>Galle</td>\n",
       "      <td>Galle</td>\n",
       "    </tr>\n",
       "    <tr>\n",
       "      <th>999</th>\n",
       "      <td>Colombo</td>\n",
       "      <td>Colombo</td>\n",
       "    </tr>\n",
       "  </tbody>\n",
       "</table>\n",
       "<p>994 rows × 2 columns</p>\n",
       "</div>"
      ],
      "text/plain": [
       "        City City_cleaned\n",
       "0    Colombo      Colombo\n",
       "1      Galle        Galle\n",
       "2      Kandy        Kandy\n",
       "3      Kandy        Kandy\n",
       "4    Colombo      Colombo\n",
       "..       ...          ...\n",
       "995  Colombo      Colombo\n",
       "996    Galle        Galle\n",
       "997  Colombo      Colombo\n",
       "998    Galle        Galle\n",
       "999  Colombo      Colombo\n",
       "\n",
       "[994 rows x 2 columns]"
      ]
     },
     "execution_count": 554,
     "metadata": {},
     "output_type": "execute_result"
    }
   ],
   "source": [
    "df_cat"
   ]
  }
 ],
 "metadata": {
  "kernelspec": {
   "display_name": "Python 3",
   "language": "python",
   "name": "python3"
  },
  "language_info": {
   "codemirror_mode": {
    "name": "ipython",
    "version": 3
   },
   "file_extension": ".py",
   "mimetype": "text/x-python",
   "name": "python",
   "nbconvert_exporter": "python",
   "pygments_lexer": "ipython3",
   "version": "3.14.0"
  }
 },
 "nbformat": 4,
 "nbformat_minor": 5
}
