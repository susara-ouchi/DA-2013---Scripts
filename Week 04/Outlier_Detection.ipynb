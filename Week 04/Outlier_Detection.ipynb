{
 "cells": [
  {
   "cell_type": "markdown",
   "id": "754345a7",
   "metadata": {},
   "source": [
    "### Importing libraries"
   ]
  },
  {
   "cell_type": "code",
   "execution_count": 1,
   "id": "61ae3bfb",
   "metadata": {},
   "outputs": [],
   "source": [
    "import pandas as pd\n",
    "from sklearn.ensemble import IsolationForest"
   ]
  },
  {
   "cell_type": "markdown",
   "id": "6da68dab",
   "metadata": {},
   "source": [
    "### 1) Continuous Data\n",
    "Detection and handling of outliers in numerical columns."
   ]
  },
  {
   "cell_type": "code",
   "execution_count": 2,
   "id": "e637e746",
   "metadata": {},
   "outputs": [
    {
     "name": "stdout",
     "output_type": "stream",
     "text": [
      "   Age  is_outlier\n",
      "0   23       False\n",
      "1   25       False\n",
      "2   26       False\n",
      "3   24       False\n",
      "4  120        True\n",
      "5   28       False\n",
      "6   22       False\n",
      "\n",
      "After capping outliers:\n",
      "    Age  is_outlier  Age_capped\n",
      "0   23       False       23.00\n",
      "1   25       False       25.00\n",
      "2   26       False       26.00\n",
      "3   24       False       24.00\n",
      "4  120        True       32.25\n",
      "5   28       False       28.00\n",
      "6   22       False       22.00\n"
     ]
    }
   ],
   "source": [
    "# Example continuous data\n",
    "df_cont = pd.DataFrame({'Age': [23, 25, 26, 24, 120, 28, 22]})\n",
    "\n",
    "# IQR method for detecting outliers\n",
    "Q1, Q3 = df_cont['Age'].quantile([0.25, 0.75])\n",
    "IQR = Q3 - Q1\n",
    "lower, upper = Q1 - 1.5*IQR, Q3 + 1.5*IQR\n",
    "\n",
    "# Flag outliers\n",
    "df_cont['is_outlier'] = (df_cont['Age'] < lower) | (df_cont['Age'] > upper)\n",
    "print(df_cont)\n",
    "\n",
    "# Example handling: capping (Winsorization)\n",
    "df_cont['Age_capped'] = df_cont['Age'].clip(lower, upper)\n",
    "print(\"\\nAfter capping outliers:\\n\", df_cont)\n"
   ]
  },
  {
   "cell_type": "code",
   "execution_count": 3,
   "id": "920d88b3",
   "metadata": {},
   "outputs": [
    {
     "name": "stdout",
     "output_type": "stream",
     "text": [
      "   Age  Age_capped\n",
      "0   23       23.00\n",
      "1   25       25.00\n",
      "2   26       26.00\n",
      "3   24       24.00\n",
      "4  120       32.25\n",
      "5   28       28.00\n",
      "6   22       22.00\n"
     ]
    }
   ],
   "source": [
    "# Capping / Winsorization\n",
    "# Replace extreme values with the nearest threshold (usually 1.5IQR or 3std deviation limits).\n",
    "\n",
    "df = pd.DataFrame({'Age': [23, 25, 26, 24, 120, 28, 22]})\n",
    "Q1, Q3 = df['Age'].quantile([0.25, 0.75])\n",
    "IQR = Q3 - Q1\n",
    "lower, upper = Q1 - 1.5*IQR, Q3 + 1.5*IQR\n",
    "\n",
    "# Cap the values\n",
    "df['Age_capped'] = df['Age'].clip(lower, upper)\n",
    "print(df)\n"
   ]
  },
  {
   "cell_type": "markdown",
   "id": "8e55ca1f",
   "metadata": {},
   "source": [
    "Model based outlier replacement"
   ]
  },
  {
   "cell_type": "code",
   "execution_count": 4,
   "id": "b577d0b2",
   "metadata": {},
   "outputs": [],
   "source": [
    "from sklearn.impute import KNNImputer\n",
    "df_knn = pd.DataFrame({'Age': [23, 25, 26, 24, 120, 28, 22], 'Salary': [4000, 4200, 4100, 4300, 15000, 4400, 4000]})"
   ]
  },
  {
   "cell_type": "code",
   "execution_count": 5,
   "id": "b527866a",
   "metadata": {},
   "outputs": [
    {
     "name": "stdout",
     "output_type": "stream",
     "text": [
      "     Age   Salary\n",
      "0   23.0   4000.0\n",
      "1   25.0   4200.0\n",
      "2   26.0   4100.0\n",
      "3   24.0   4300.0\n",
      "4  120.0  15000.0\n",
      "5   28.0   4400.0\n",
      "6   22.0   4000.0\n"
     ]
    }
   ],
   "source": [
    "imputer = KNNImputer(n_neighbors=2)\n",
    "df_knn_imputed = pd.DataFrame(imputer.fit_transform(df_knn), columns=df_knn.columns)\n",
    "print(df_knn_imputed)"
   ]
  },
  {
   "cell_type": "markdown",
   "id": "b19b6c6b",
   "metadata": {},
   "source": [
    "### 2) Categorical Data\n",
    "Detection of rare categories and handling."
   ]
  },
  {
   "cell_type": "code",
   "execution_count": 6,
   "id": "6fa521bd",
   "metadata": {},
   "outputs": [
    {
     "name": "stdout",
     "output_type": "stream",
     "text": [
      "      City City_cleaned\n",
      "0  Colombo      Colombo\n",
      "1    Kandy        Kandy\n",
      "2    Galle        Galle\n",
      "3  Colombo      Colombo\n",
      "4    Paris        Paris\n"
     ]
    }
   ],
   "source": [
    "\n",
    "# Example categorical data\n",
    "df_cat = pd.DataFrame({'City': ['Colombo', 'Kandy', 'Galle', 'Colombo', 'Paris']})\n",
    "\n",
    "# Detect rare categories (less than 10% frequency)\n",
    "freq = df_cat['City'].value_counts(normalize=True)\n",
    "rare_labels = freq[freq < 0.1].index\n",
    "\n",
    "# Replace rare categories with 'Other'\n",
    "df_cat['City_cleaned'] = df_cat['City'].replace(rare_labels, 'Other')\n",
    "print(df_cat)\n"
   ]
  },
  {
   "cell_type": "markdown",
   "id": "07b29751",
   "metadata": {},
   "source": [
    "### 3) Mixed-Type Data\n",
    "Using Isolation Forest to detect outliers in datasets with numeric variables."
   ]
  },
  {
   "cell_type": "code",
   "execution_count": 7,
   "id": "1fd21bc3",
   "metadata": {},
   "outputs": [
    {
     "name": "stdout",
     "output_type": "stream",
     "text": [
      "   Age  Income  outlier_flag\n",
      "0   25   50000             1\n",
      "1   27   52000             1\n",
      "2   26   51000             1\n",
      "3   29   48000             1\n",
      "4   90  200000            -1\n",
      "\n",
      "After replacing outliers with NaN:\n",
      "     Age   Income  outlier_flag\n",
      "0  25.0  50000.0             1\n",
      "1  27.0  52000.0             1\n",
      "2  26.0  51000.0             1\n",
      "3  29.0  48000.0             1\n",
      "4   NaN      NaN            -1\n"
     ]
    }
   ],
   "source": [
    "\n",
    "from sklearn.ensemble import IsolationForest\n",
    "\n",
    "# Example mixed-type dataset (numeric columns only for outlier detection)\n",
    "df_mixed = pd.DataFrame({\n",
    "    'Age': [25, 27, 26, 29, 90],\n",
    "    'Income': [50000, 52000, 51000, 48000, 200000]\n",
    "})\n",
    "\n",
    "# Isolation Forest to detect outliers\n",
    "iso = IsolationForest(contamination=0.2, random_state=42)\n",
    "df_mixed['outlier_flag'] = iso.fit_predict(df_mixed)\n",
    "\n",
    "# In IsolationForest: -1 indicates outlier, 1 indicates inlier\n",
    "print(df_mixed)\n",
    "\n",
    "# Handling: replace outliers with NaN for later imputation\n",
    "df_mixed_handled = df_mixed.copy()\n",
    "df_mixed_handled.loc[df_mixed_handled['outlier_flag'] == -1, ['Age', 'Income']] = pd.NA\n",
    "print(\"\\nAfter replacing outliers with NaN:\\n\", df_mixed_handled)\n"
   ]
  }
 ],
 "metadata": {
  "kernelspec": {
   "display_name": "Python 3",
   "language": "python",
   "name": "python3"
  },
  "language_info": {
   "codemirror_mode": {
    "name": "ipython",
    "version": 3
   },
   "file_extension": ".py",
   "mimetype": "text/x-python",
   "name": "python",
   "nbconvert_exporter": "python",
   "pygments_lexer": "ipython3",
   "version": "3.14.0"
  }
 },
 "nbformat": 4,
 "nbformat_minor": 5
}
