{
 "cells": [
  {
   "cell_type": "markdown",
   "id": "68ad2893",
   "metadata": {},
   "source": [
    "### 1. Lists"
   ]
  },
  {
   "cell_type": "code",
   "execution_count": 3,
   "id": "127895c0",
   "metadata": {},
   "outputs": [
    {
     "name": "stdout",
     "output_type": "stream",
     "text": [
      "10\n",
      "40\n",
      "[20, 30]\n"
     ]
    }
   ],
   "source": [
    "# Create a list\n",
    "numbers = [10, 20, 30]\n",
    "\n",
    "# Add an item\n",
    "numbers.append(40)\n",
    "\n",
    "# Access items\n",
    "print(numbers[0])      # 10\n",
    "print(numbers[-1])     # 40\n",
    "\n",
    "# Slice\n",
    "print(numbers[1:3])    # [20, 30]\n"
   ]
  },
  {
   "cell_type": "code",
   "execution_count": 5,
   "id": "2cd97e8f",
   "metadata": {},
   "outputs": [
    {
     "name": "stdout",
     "output_type": "stream",
     "text": [
      "Bob\n",
      "John\n",
      "Jim\n"
     ]
    }
   ],
   "source": [
    "# Iterating a list\n",
    "names = [\"Bob\", \"John\", \"Jim\"]\n",
    "\n",
    "for name in names:\n",
    "    print(name)"
   ]
  },
  {
   "cell_type": "markdown",
   "id": "c79a289e",
   "metadata": {},
   "source": [
    "### 2. Dictionary (Hash table)"
   ]
  },
  {
   "cell_type": "code",
   "execution_count": 7,
   "id": "a2448c40",
   "metadata": {},
   "outputs": [
    {
     "name": "stdout",
     "output_type": "stream",
     "text": [
      "Asha\n",
      "{'name': 'Asha', 'age': 29, 'department': 'Finance', 'salary': 45000}\n"
     ]
    }
   ],
   "source": [
    "# Create a dictionary (record-like)\n",
    "employee = {\n",
    "    \"name\": \"Asha\",\n",
    "    \"age\": 29,\n",
    "    \"department\": \"Finance\"\n",
    "}\n",
    "\n",
    "print(employee[\"name\"])    \n",
    "\n",
    "# Add a new field\n",
    "employee[\"salary\"] = 45000\n",
    "print(employee)\n"
   ]
  },
  {
   "cell_type": "markdown",
   "id": "195f7d9c",
   "metadata": {},
   "source": [
    "### 3. Tuples"
   ]
  },
  {
   "cell_type": "code",
   "execution_count": 21,
   "id": "7d2333ad",
   "metadata": {},
   "outputs": [
    {
     "name": "stdout",
     "output_type": "stream",
     "text": [
      "101\n"
     ]
    }
   ],
   "source": [
    "# A fixed record: (ID, Name)\n",
    "record = (101, 'Ana')\n",
    "\n",
    "# Accessing values\n",
    "print(record[0])  # 101"
   ]
  },
  {
   "cell_type": "markdown",
   "id": "a8983028",
   "metadata": {},
   "source": [
    "### 4. Sets"
   ]
  },
  {
   "cell_type": "code",
   "execution_count": 9,
   "id": "ddd4df0a",
   "metadata": {},
   "outputs": [
    {
     "name": "stdout",
     "output_type": "stream",
     "text": [
      "{'HR', 'Finance'}\n"
     ]
    }
   ],
   "source": [
    "# Create a set\n",
    "unique_departments = {\"Finance\", \"HR\", \"IT\"}\n",
    "\n",
    "# Add new item\n",
    "unique_departments.add(\"Marketing\")\n",
    "\n",
    "# Remove duplicates from a list\n",
    "departments = [\"Finance\", \"Finance\", \"HR\"]\n",
    "unique_departments = set(departments)\n",
    "print(unique_departments) \n"
   ]
  },
  {
   "cell_type": "markdown",
   "id": "463bb455",
   "metadata": {},
   "source": [
    "### 5. Stacks"
   ]
  },
  {
   "cell_type": "code",
   "execution_count": 1,
   "id": "f73ac993",
   "metadata": {},
   "outputs": [
    {
     "name": "stdout",
     "output_type": "stream",
     "text": [
      "Stack:  ['A', 'B', 'C']\n",
      "Pop:  C\n",
      "Peek:  B\n",
      "isEmpty:  False\n",
      "Size:  2\n"
     ]
    }
   ],
   "source": [
    "stack = []\n",
    "\n",
    "# Push\n",
    "stack.append('A')\n",
    "stack.append('B')\n",
    "stack.append('C')\n",
    "print(\"Stack: \", stack)\n",
    "\n",
    "# Pop\n",
    "element = stack.pop()\n",
    "print(\"Pop: \", element)\n",
    "\n",
    "# Peek\n",
    "topElement = stack[-1]\n",
    "print(\"Peek: \", topElement)\n",
    "\n",
    "# isEmpty\n",
    "isEmpty = not bool(stack)\n",
    "print(\"isEmpty: \", isEmpty)\n",
    "\n",
    "# Size\n",
    "print(\"Size: \",len(stack))"
   ]
  },
  {
   "cell_type": "markdown",
   "id": "1ff9358e",
   "metadata": {},
   "source": [
    "### 6. Queue (FIFO)"
   ]
  },
  {
   "cell_type": "code",
   "execution_count": 2,
   "id": "a3b8675e",
   "metadata": {},
   "outputs": [
    {
     "name": "stdout",
     "output_type": "stream",
     "text": [
      "Queue:  ['A', 'B', 'C']\n",
      "Dequeue:  A\n",
      "Peek:  B\n",
      "isEmpty:  False\n",
      "Size:  2\n"
     ]
    }
   ],
   "source": [
    "queue = []\n",
    "\n",
    "# Enqueue\n",
    "queue.append('A')\n",
    "queue.append('B')\n",
    "queue.append('C')\n",
    "print(\"Queue: \", queue)\n",
    "\n",
    "# Dequeue\n",
    "element = queue.pop(0)\n",
    "print(\"Dequeue: \", element)\n",
    "\n",
    "# Peek\n",
    "frontElement = queue[0]\n",
    "print(\"Peek: \", frontElement)\n",
    "\n",
    "# isEmpty\n",
    "isEmpty = not bool(queue)\n",
    "print(\"isEmpty: \", isEmpty)\n",
    "\n",
    "# Size\n",
    "print(\"Size: \", len(queue))"
   ]
  },
  {
   "cell_type": "code",
   "execution_count": 12,
   "id": "d322524b",
   "metadata": {},
   "outputs": [
    {
     "name": "stdout",
     "output_type": "stream",
     "text": [
      "Order1\n",
      "Order2\n"
     ]
    }
   ],
   "source": [
    "from collections import deque\n",
    "\n",
    "queue = deque()\n",
    "queue.append(\"Order1\")\n",
    "queue.append(\"Order2\")\n",
    "\n",
    "print(queue.popleft())  # Order1\n",
    "print(queue.popleft())  # Order2"
   ]
  },
  {
   "cell_type": "markdown",
   "id": "b1e1f751",
   "metadata": {},
   "source": [
    "### 7. DataFrames"
   ]
  },
  {
   "cell_type": "code",
   "execution_count": 18,
   "id": "711ac217",
   "metadata": {},
   "outputs": [
    {
     "name": "stdout",
     "output_type": "stream",
     "text": [
      "    Name   Age Department\n",
      "0   Asha  29.0    Finance\n",
      "1   Ravi  35.0         IT\n",
      "2  Meena   NaN    Finance\n"
     ]
    }
   ],
   "source": [
    "import pandas as pd\n",
    "\n",
    "# Create a DataFrame\n",
    "data = {\n",
    "    \"Name\": [\"Asha\", \"Ravi\", \"Meena\"],\n",
    "    \"Age\": [29, 35, None],\n",
    "    \"Department\": [\"Finance\", \"IT\", \"Finance\"]\n",
    "}\n",
    "df = pd.DataFrame(data)\n",
    "print(df)"
   ]
  },
  {
   "cell_type": "code",
   "execution_count": 20,
   "id": "951ece14",
   "metadata": {},
   "outputs": [
    {
     "name": "stdout",
     "output_type": "stream",
     "text": [
      "    Name   Age Department\n",
      "0   Asha  29.0    Finance\n",
      "1   Ravi  35.0         IT\n",
      "2  Meena  32.0    Finance\n"
     ]
    }
   ],
   "source": [
    "# Remove duplicates\n",
    "df.drop_duplicates(inplace=True)\n",
    "\n",
    "# Fill missing values\n",
    "df.fillna({'Age': df['Age'].mean()}, inplace=True)\n",
    "print(df)"
   ]
  },
  {
   "cell_type": "markdown",
   "id": "6194cf38",
   "metadata": {},
   "source": [
    "### 8. JSON"
   ]
  },
  {
   "cell_type": "code",
   "execution_count": 22,
   "id": "0bbce15b",
   "metadata": {},
   "outputs": [
    {
     "name": "stdout",
     "output_type": "stream",
     "text": [
      "Ana\n"
     ]
    }
   ],
   "source": [
    "import json\n",
    "\n",
    "# JSON string from an API\n",
    "json_string = '{\"id\": 1, \"name\": \"Ana\"}'\n",
    "\n",
    "# Convert JSON to Python dict\n",
    "data = json.loads(json_string)\n",
    "print(data['name'])  # Ana\n"
   ]
  },
  {
   "cell_type": "markdown",
   "id": "ee1adb2b",
   "metadata": {},
   "source": [
    "### 9. Databases (SQLITE)"
   ]
  },
  {
   "cell_type": "code",
   "execution_count": 27,
   "id": "518f6b89",
   "metadata": {},
   "outputs": [
    {
     "name": "stdout",
     "output_type": "stream",
     "text": [
      "(1, 'Ana')\n"
     ]
    }
   ],
   "source": [
    "import sqlite3\n",
    "\n",
    "conn = sqlite3.connect('example.db')\n",
    "cursor = conn.cursor()\n",
    "\n",
    "cursor.execute('CREATE TABLE IF NOT EXISTS customers (id INT, name TEXT)')\n",
    "cursor.execute('INSERT INTO customers VALUES (?, ?)', (1, 'Ana'))\n",
    "conn.commit()\n",
    "\n",
    "for row in cursor.execute('SELECT * FROM customers'):\n",
    "    print(row)\n",
    "\n",
    "conn.close()"
   ]
  }
 ],
 "metadata": {
  "kernelspec": {
   "display_name": "Python 3",
   "language": "python",
   "name": "python3"
  },
  "language_info": {
   "codemirror_mode": {
    "name": "ipython",
    "version": 3
   },
   "file_extension": ".py",
   "mimetype": "text/x-python",
   "name": "python",
   "nbconvert_exporter": "python",
   "pygments_lexer": "ipython3",
   "version": "3.12.4"
  }
 },
 "nbformat": 4,
 "nbformat_minor": 5
}
